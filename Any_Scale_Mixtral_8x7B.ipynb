{
  "nbformat": 4,
  "nbformat_minor": 0,
  "metadata": {
    "colab": {
      "provenance": []
    },
    "kernelspec": {
      "name": "python3",
      "display_name": "Python 3"
    },
    "language_info": {
      "name": "python"
    }
  },
  "cells": [
    {
      "cell_type": "markdown",
      "source": [
        "## Any Scale - Mixtral 8x7B"
      ],
      "metadata": {
        "id": "3tjJzDUH8dji"
      }
    },
    {
      "cell_type": "markdown",
      "source": [
        "##### Get your Any Scale API key from here: https://app.endpoints.anyscale.com/. They offer $10 free credits."
      ],
      "metadata": {
        "id": "1-wKklX08fmw"
      }
    },
    {
      "cell_type": "markdown",
      "source": [
        "\n",
        "\n",
        "---\n",
        "\n"
      ],
      "metadata": {
        "id": "fxRB-vaOF-Eg"
      }
    },
    {
      "cell_type": "markdown",
      "source": [
        "### Langchain Implementation"
      ],
      "metadata": {
        "id": "ucYn2BrXB9q7"
      }
    },
    {
      "cell_type": "code",
      "source": [
        "!pip install langchain==0.0.352 openai==0.28.1"
      ],
      "metadata": {
        "id": "B47Tk3c0Cb-h"
      },
      "execution_count": null,
      "outputs": []
    },
    {
      "cell_type": "code",
      "source": [
        "import os\n",
        "from langchain.chains import LLMChain\n",
        "from langchain.chat_models import ChatAnyscale\n",
        "from langchain.prompts import PromptTemplate\n",
        "\n",
        "ANYSCALE_API_KEY = \"INSERT YOUR ANYSCALE API KEY\"                       ## Get your API key from here: https://app.endpoints.anyscale.com/\n",
        "\n",
        "ANYSCALE_MODEL_NAME = \"mistralai/Mixtral-8x7B-Instruct-v0.1\"\n",
        "ANYSCALE_BASE_URL = \"https://api.endpoints.anyscale.com/v1\"\n",
        "\n",
        "os.environ[\"ANYSCALE_BASE_URL\"] = ANYSCALE_BASE_URL\n",
        "os.environ[\"ANYSCALE_API_KEY\"] = ANYSCALE_API_KEY\n",
        "\n",
        "template = \"\"\"<s>[INST]Write a 100% unique, creative, and human-like style article of a minimum of 1500 words using \\\n",
        "# headings # and # sub-headings #. For the \"{keyword}\". Try to use contractions, idioms, transitional phrases, \\\n",
        "interjections, dangling modifiers, and colloquialisms, and avoid repetitive phrases and unnatural sentence \\\n",
        "structures. The article should include Creative Title, SEO meta-description, ## Introduction ##. \\\n",
        "Add bullet points or Numbered list if needed, Write down faqs and conclusion. Make sure the article is \\\n",
        "plagiarism free. Don't forget to use a question mark at the end of questions. Try not to change the original \\\n",
        "title while writing the Title. Try to use the \"{keyword}\" 2-3 times in the article. \\\n",
        "try to include \"{keyword}\" in headings as well. write content that can easily pass the ai detection tools test.[/INST]\"\"\"\n",
        "\n",
        "prompt = PromptTemplate(template=template, input_variables=[\"keyword\"])\n",
        "llm = ChatAnyscale(anyscale_api_base=ANYSCALE_BASE_URL, anyscale_api_key=ANYSCALE_API_KEY, temperature=0, model_name=ANYSCALE_MODEL_NAME, max_tokens=2048)\n",
        "llm_chain = LLMChain(prompt=prompt, llm=llm)"
      ],
      "metadata": {
        "id": "Qlt-yWQ_CAZB"
      },
      "execution_count": null,
      "outputs": []
    },
    {
      "cell_type": "code",
      "source": [
        "keyword = \"Statistical Learning\"\n",
        "\n",
        "response = llm_chain.run(keyword)\n",
        "\n",
        "print(response)"
      ],
      "metadata": {
        "colab": {
          "base_uri": "https://localhost:8080/"
        },
        "id": "VwOmCRULCOjl",
        "outputId": "11f10f50-5eaf-4fe1-aea6-20b1938964bf"
      },
      "execution_count": null,
      "outputs": [
        {
          "output_type": "stream",
          "name": "stdout",
          "text": [
            " Title: \"Statistical Learning: A Powerful Tool for Data Analysis and Predictive Modeling\"\n",
            "\n",
            "SEO Meta-Description: Discover the world of statistical learning and how it can help you make sense of complex data sets. From regression analysis to machine learning algorithms, we'll explore the ins and outs of this powerful tool.\n",
            "\n",
            "Introduction\n",
            "------------\n",
            "\n",
            "Data is everywhere, and it's only getting bigger. With the rise of big data, businesses and organizations are collecting more information than ever before. But how can we make sense of all this information? That's where statistical learning comes in.\n",
            "\n",
            "Statistical learning is a branch of statistics that uses algorithms and models to analyze data and make predictions. It's a powerful tool that can help businesses and organizations make informed decisions, improve processes, and even predict future trends.\n",
            "\n",
            "But what exactly is statistical learning, and how can you use it to your advantage? In this article, we'll explore the basics of statistical learning, including its history, techniques, and applications. We'll also answer some frequently asked questions and provide some tips for getting started with statistical learning.\n",
            "\n",
            "### What is Statistical Learning?\n",
            "\n",
            "Statistical learning is a field of study that uses mathematical models and algorithms to analyze data and make predictions. It combines elements of statistics, machine learning, and data mining to create powerful tools for data analysis and predictive modeling.\n",
            "\n",
            "At its core, statistical learning is all about finding patterns in data. By analyzing large data sets, statistical learning algorithms can identify trends and relationships that might not be apparent to the human eye. These patterns can then be used to make predictions about future events or behaviors.\n",
            "\n",
            "### A Brief History of Statistical Learning\n",
            "\n",
            "Statistical learning has its roots in the field of statistics, which has been around for centuries. However, it wasn't until the 20th century that statistical learning really took off.\n",
            "\n",
            "In the 1950s and 1960s, researchers began to develop machine learning algorithms that could automatically learn from data. These algorithms were initially used in fields like computer science and engineering, but they soon found their way into statistics as well.\n",
            "\n",
            "Today, statistical learning is a rapidly growing field, with new techniques and applications being developed all the time. It's used in a wide variety of industries, from finance and healthcare to marketing and social media.\n",
            "\n",
            "### Techniques Used in Statistical Learning\n",
            "\n",
            "There are many different techniques used in statistical learning, but some of the most common include:\n",
            "\n",
            "* **Regression Analysis:** This technique is used to model the relationship between a dependent variable and one or more independent variables. It's often used to predict future values of the dependent variable based on the values of the independent variables.\n",
            "* **Classification:** This technique is used to predict which category an observation belongs to based on its characteristics. For example, a classification algorithm might be used to predict whether an email is spam or not based on its content.\n",
            "* **Clustering:** This technique is used to group observations together based on their similarities. It's often used in market research to segment customers into different groups based on their behavior.\n",
            "* **Dimensionality Reduction:** This technique is used to reduce the number of variables in a data set while preserving as much of the original information as possible. It's often used to make data analysis more manageable.\n",
            "\n",
            "### Applications of Statistical Learning\n",
            "\n",
            "Statistical learning has many different applications, including:\n",
            "\n",
            "* **Predictive Modeling:** Statistical learning algorithms can be used to predict future events or behaviors based on historical data. For example, a statistical learning algorithm might be used to predict which customers are most likely to churn based on their past behavior.\n",
            "* **Data Mining:** Statistical learning algorithms can be used to uncover hidden patterns and relationships in data. For example, a statistical learning algorithm might be used to identify fraudulent credit card transactions.\n",
            "* **Quality Control:** Statistical learning algorithms can be used to monitor processes and detect anomalies. For example, a statistical learning algorithm might be used to detect defects in manufactured products.\n",
            "* **Marketing Analysis:** Statistical learning algorithms can be used to segment customers and target marketing efforts. For example, a statistical learning algorithm might be used to identify the most profitable customer segments for a particular product.\n",
            "\n",
            "FAQs\n",
            "----\n",
            "\n",
            "1. **What's the difference between statistical learning and machine learning?**\n",
            "\n",
            "While both statistical learning and machine learning involve using algorithms to analyze data and make predictions, there are some key differences between the two. Statistical learning is a branch of statistics that focuses on using mathematical models to analyze data, while machine learning is a branch of computer science that focuses on using algorithms to learn from data.\n",
            "\n",
            "2. **Do I need a background in statistics to use statistical learning?**\n",
            "\n",
            "While a background in statistics can be helpful, it's not strictly necessary to use statistical learning. There are many resources available for learning statistical learning, including online courses, textbooks, and tutorials.\n",
            "\n",
            "3. **What programming languages are commonly used in statistical learning?**\n",
            "\n",
            "Some of the most commonly used programming languages in statistical learning include R, Python, and SAS.\n",
            "\n",
            "4. **How do I choose the right statistical learning algorithm for my data?**\n",
            "\n",
            "Choosing the right statistical learning algorithm depends on the nature of your data and the question you're trying to answer. Some algorithms are better suited to certain types of data or questions than others. It's important to do your research and choose the algorithm that best fits your needs.\n",
            "\n",
            "Conclusion\n",
            "----------\n",
            "\n",
            "Statistical learning is a powerful tool for data analysis and predictive modeling. By using algorithms and models to analyze data, statistical learning can help businesses and organizations make informed decisions, improve processes, and even predict future trends.\n",
            "\n",
            "While statistical learning can be complex, there are many resources available for learning this valuable skill. With the right tools and techniques, anyone can harness the power of statistical learning to make sense of big data.\n",
            "\n",
            "So why not give it a try? With statistical learning, the possibilities are endless.\n"
          ]
        }
      ]
    },
    {
      "cell_type": "markdown",
      "source": [
        "\n",
        "\n",
        "---\n",
        "\n"
      ],
      "metadata": {
        "id": "HUXgduA1Ft3D"
      }
    },
    {
      "cell_type": "markdown",
      "source": [
        "### Any Scale API Implementation"
      ],
      "metadata": {
        "id": "QgoaNMffB6s0"
      }
    },
    {
      "cell_type": "code",
      "execution_count": null,
      "metadata": {
        "id": "HPtw_MUY4t2N"
      },
      "outputs": [],
      "source": [
        "!pip install openai"
      ]
    },
    {
      "cell_type": "code",
      "source": [
        "import openai\n",
        "import os\n",
        "\n",
        "ANYSCALE_API_KEY = \"INSERT YOUR ANYSCALE API KEY\"       ## Get your API key from here: https://app.endpoints.anyscale.com/\n",
        "\n",
        "prompt = \"\"\"<s>[INST]Take a deep breath, think step-by-step and answer the following question:\\\n",
        "Roger has 5 tennis balls. He buys 2 more cans of tennis balls. Each can has 3 tennis balls. How many tennis balls does he have now?[/INST]\"\"\"\n",
        "\n",
        "client = openai.OpenAI(\n",
        "    base_url = \"https://api.endpoints.anyscale.com/v1\",\n",
        "    api_key = ANYSCALE_API_KEY\n",
        ")\n",
        "\n",
        "completion = client.completions.create(\n",
        "    model=\"mistralai/Mixtral-8x7B-Instruct-v0.1\",\n",
        "    prompt=prompt,\n",
        "    max_tokens=1024\n",
        ")\n",
        "\n",
        "response = completion.model_dump()\n",
        "\n",
        "print(response['choices'][0]['text'] )"
      ],
      "metadata": {
        "colab": {
          "base_uri": "https://localhost:8080/"
        },
        "id": "qsBVynup4ur3",
        "outputId": "71379d6c-51ee-44b2-f134-a8d7beeb1228"
      },
      "execution_count": null,
      "outputs": [
        {
          "output_type": "stream",
          "name": "stdout",
          "text": [
            " Sure, let's break this down step by step.\n",
            "\n",
            "1. Roger initially has 5 tennis balls.\n",
            "2. Then, he buys 2 more cans of tennis balls, and each can contains 3 tennis balls.\n",
            "3. So, the 2 cans add 3 tennis balls each, which is a total of 6 more tennis balls (2 cans x 3 balls/can).\n",
            "4. Adding these 6 new balls to the 5 he already had, we get a total of 11 tennis balls (5 original balls + 6 new balls).\n",
            "\n",
            "Therefore, Roger now has 11 tennis balls.\n"
          ]
        }
      ]
    },
    {
      "cell_type": "markdown",
      "source": [
        "\n",
        "\n",
        "---\n",
        "\n"
      ],
      "metadata": {
        "id": "uBbVX62WL8TX"
      }
    },
    {
      "cell_type": "markdown",
      "source": [
        "\n",
        "### About\n",
        "\n",
        "##### This notebook is created by AI Geek.\n",
        "\n",
        "##### If you want to support my work, consider following me on [twitter](https://twitter.com/aigeek__) & [medium](https://medium.com/@aigeek_). You can also [buy me a coffee](https://www.buymeacoffee.com/aigeek_)."
      ],
      "metadata": {
        "id": "CSeZnbEb5bLE"
      }
    },
    {
      "cell_type": "code",
      "source": [],
      "metadata": {
        "id": "Bvxo1Y5eOnoT"
      },
      "execution_count": null,
      "outputs": []
    }
  ]
}