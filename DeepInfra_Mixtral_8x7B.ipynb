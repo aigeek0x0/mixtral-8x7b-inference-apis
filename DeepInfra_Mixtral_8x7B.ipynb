{
  "nbformat": 4,
  "nbformat_minor": 0,
  "metadata": {
    "colab": {
      "provenance": []
    },
    "kernelspec": {
      "name": "python3",
      "display_name": "Python 3"
    },
    "language_info": {
      "name": "python"
    }
  },
  "cells": [
    {
      "cell_type": "markdown",
      "source": [
        "## DeepInfra - Mixtral 8x7B"
      ],
      "metadata": {
        "id": "b-NENPl1Pu4y"
      }
    },
    {
      "cell_type": "markdown",
      "source": [
        "##### Get your DeepInfra from here: https://deepinfra.com/. They offer a free trial."
      ],
      "metadata": {
        "id": "0XRUSSLcPxVa"
      }
    },
    {
      "cell_type": "markdown",
      "source": [
        "\n",
        "\n",
        "---\n",
        "\n"
      ],
      "metadata": {
        "id": "QSJD5-19RBMW"
      }
    },
    {
      "cell_type": "markdown",
      "source": [
        "### Langchain Implementation"
      ],
      "metadata": {
        "id": "6INhCWH8Pqim"
      }
    },
    {
      "cell_type": "code",
      "execution_count": null,
      "metadata": {
        "id": "lIq9lnrPOJus"
      },
      "outputs": [],
      "source": [
        "!pip install langchain==0.0.352"
      ]
    },
    {
      "cell_type": "code",
      "source": [
        "import os\n",
        "DEEPINFRA_API_TOKEN = \"INSERT YOUR DEEPINFRA API TOKEN\"\n",
        "\n",
        "os.environ[\"DEEPINFRA_API_TOKEN\"] = DEEPINFRA_API_TOKEN"
      ],
      "metadata": {
        "id": "YKnvKd3qOKgP"
      },
      "execution_count": null,
      "outputs": []
    },
    {
      "cell_type": "code",
      "source": [
        "from langchain.llms import DeepInfra\n",
        "\n",
        "llm = DeepInfra(model_id=\"mistralai/Mixtral-8x7B-Instruct-v0.1\")\n",
        "llm.model_kwargs = {\n",
        "    \"temperature\": 0.5,\n",
        "    \"repetition_penalty\": 1,\n",
        "    \"max_new_tokens\": 2048,\n",
        "    \"top_p\": 0.9,\n",
        "}"
      ],
      "metadata": {
        "id": "bF3nHPwpOP7k"
      },
      "execution_count": null,
      "outputs": []
    },
    {
      "cell_type": "code",
      "source": [
        "# run inference\n",
        "response = llm(\"Write a poem about a beautiful day in Paris.\")\n",
        "print(response)"
      ],
      "metadata": {
        "colab": {
          "base_uri": "https://localhost:8080/"
        },
        "id": "IhmMFBvuOTSA",
        "outputId": "1b235818-23d5-4a67-b436-fedeeeab1866"
      },
      "execution_count": null,
      "outputs": [
        {
          "output_type": "stream",
          "name": "stdout",
          "text": [
            "\n",
            "\n",
            "A Parisian day, oh so bright,\n",
            "Underneath the azure sky,\n",
            "The sun kisses the cobblestone streets,\n",
            "As lovers and dreamers pass by.\n",
            "\n",
            "The Eiffel Tower stands tall and proud,\n",
            "A symbol of love and delight,\n",
            "Cafes hum with life and chatter,\n",
            "As the city awakens with morning light.\n",
            "\n",
            "The Seine River gently flows,\n",
            "Reflecting the beauty of the day,\n",
            "Bridges adorned with lovers' locks,\n",
            "A testament to love that will never sway.\n",
            "\n",
            "The aroma of freshly baked bread,\n",
            "Wafts through the air,\n",
            "While street musicians play their tunes,\n",
            "For passersby to spare.\n",
            "\n",
            "Artists capture the city's charm,\n",
            "On canvas and in verse,\n",
            "As children run and play in parks,\n",
            "Their laughter, music to the universe.\n",
            "\n",
            "The evening brings a soft glow,\n",
            "To the City of Light,\n",
            "As the stars twinkle in the night,\n",
            "And lovers steal a tender sight.\n",
            "\n",
            "A Parisian day, oh so bright,\n",
            "A day to remember and hold dear,\n",
            "A day of beauty and love,\n",
            "In the city that forever endears.\n"
          ]
        }
      ]
    },
    {
      "cell_type": "markdown",
      "source": [
        "\n",
        "\n",
        "---\n",
        "\n"
      ],
      "metadata": {
        "id": "yRTu-E5GRyOQ"
      }
    },
    {
      "cell_type": "markdown",
      "source": [
        "\n",
        "### About\n",
        "\n",
        "##### This notebook is created by AI Geek.\n",
        "\n",
        "##### If you want to support my work, consider following me on [twitter](https://twitter.com/aigeek__) & [medium](https://medium.com/@aigeek_). You can also [buy me a coffee](https://www.buymeacoffee.com/aigeek_)."
      ],
      "metadata": {
        "id": "ddq7l0UmRzH7"
      }
    },
    {
      "cell_type": "code",
      "source": [],
      "metadata": {
        "id": "ZkpVW03KOiKh"
      },
      "execution_count": null,
      "outputs": []
    }
  ]
}