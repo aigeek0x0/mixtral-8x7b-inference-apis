{
  "nbformat": 4,
  "nbformat_minor": 0,
  "metadata": {
    "colab": {
      "provenance": []
    },
    "kernelspec": {
      "name": "python3",
      "display_name": "Python 3"
    },
    "language_info": {
      "name": "python"
    }
  },
  "cells": [
    {
      "cell_type": "markdown",
      "source": [
        "## Fireworks AI - Mixtral 8x7B"
      ],
      "metadata": {
        "id": "TfrgtG0-r-fr"
      }
    },
    {
      "cell_type": "markdown",
      "source": [
        "##### Get your Fireworks AI API key from here: https://app.fireworks.ai/. They offer free credits for trial."
      ],
      "metadata": {
        "id": "qAoIn6t-sHVh"
      }
    },
    {
      "cell_type": "markdown",
      "source": [
        "\n",
        "\n",
        "---\n",
        "\n"
      ],
      "metadata": {
        "id": "hIfqlB_MsYhx"
      }
    },
    {
      "cell_type": "markdown",
      "source": [
        "### Langchain Implementation"
      ],
      "metadata": {
        "id": "tRJ-JQXEo4mx"
      }
    },
    {
      "cell_type": "code",
      "source": [
        "!pip install fireworks-ai langchain openai"
      ],
      "metadata": {
        "id": "cZMx516uiUgn"
      },
      "execution_count": null,
      "outputs": []
    },
    {
      "cell_type": "code",
      "source": [
        "fireworks_api = \"INSERT_FIREWORKS_API_KEY\"      # Get your API key from here: https://app.fireworks.ai/"
      ],
      "metadata": {
        "id": "BTPUCzq2iXa8"
      },
      "execution_count": null,
      "outputs": []
    },
    {
      "cell_type": "code",
      "source": [
        "from langchain_community.llms.fireworks import Fireworks\n",
        "\n",
        "llm = Fireworks(\n",
        "    fireworks_api_key=fireworks_api,\n",
        "    model=\"accounts/fireworks/models/mixtral-8x7b-instruct\",\n",
        "    max_tokens=2048)\n",
        "\n",
        "llm(\"Write a poem about a beautiful day in Paris.\")\n"
      ],
      "metadata": {
        "id": "qNqzpXpAiZMb"
      },
      "execution_count": null,
      "outputs": []
    },
    {
      "cell_type": "markdown",
      "source": [
        "\n",
        "\n",
        "---\n",
        "\n"
      ],
      "metadata": {
        "id": "vYhCgtI1sZvx"
      }
    },
    {
      "cell_type": "markdown",
      "source": [
        "### REST API Implementation"
      ],
      "metadata": {
        "id": "jI8QuvT-jTMZ"
      }
    },
    {
      "cell_type": "code",
      "execution_count": null,
      "metadata": {
        "colab": {
          "base_uri": "https://localhost:8080/"
        },
        "id": "-3yLB0QQgJ0H",
        "outputId": "0da1f414-c673-4501-bd99-582389ff6c20"
      },
      "outputs": [
        {
          "output_type": "stream",
          "name": "stdout",
          "text": [
            "\n",
            "          First, let's find out how many tennis balls Roger buys in the two cans:\n",
            "          2 cans * 3 balls per can = 6 balls\n",
            "\n",
            "          Then, add these new balls to the ones he already had:\n",
            "          5 original balls + 6 new balls = 11 balls\n",
            "\n",
            "          Therefore, Roger now has 11 tennis balls.\n"
          ]
        }
      ],
      "source": [
        "import fireworks.client\n",
        "\n",
        "fireworks.client.api_key = fireworks_api\n",
        "\n",
        "response = fireworks.client.Completion.create(\n",
        "  model=\"accounts/fireworks/models/mixtral-8x7b-instruct\",\n",
        "  prompt=\"\"\"\n",
        "          Take a deep breath, think step-by-step and answer the following question:\\\n",
        "          Roger has 5 tennis balls. He buys 2 more cans of tennis balls. Each can has \\\n",
        "          3 tennis balls. How many tennis balls does he have now?\n",
        "          \"\"\",\n",
        "  max_tokens=2048,\n",
        ")\n",
        "print(response.choices[0].text)"
      ]
    },
    {
      "cell_type": "markdown",
      "source": [
        "\n",
        "\n",
        "---\n",
        "\n"
      ],
      "metadata": {
        "id": "5aWNOsqlsa_H"
      }
    },
    {
      "cell_type": "markdown",
      "source": [
        "### OpenAI Compatible API"
      ],
      "metadata": {
        "id": "ukFQjYFmrY-s"
      }
    },
    {
      "cell_type": "code",
      "source": [
        "import openai\n",
        "\n",
        "client = openai.OpenAI(\n",
        "    base_url = \"https://api.fireworks.ai/inference/v1\",\n",
        "    api_key=fireworks_api,\n",
        ")\n",
        "response = client.completions.create(\n",
        "  model=\"accounts/fireworks/models/mixtral-8x7b-instruct\",\n",
        "  prompt=\"Write a poem about a beautiful day in London.\",\n",
        "  max_tokens=2048,\n",
        ")\n",
        "print(response.choices[0].text)"
      ],
      "metadata": {
        "colab": {
          "base_uri": "https://localhost:8080/"
        },
        "id": "eO8Pubs9p5Ga",
        "outputId": "3f1291e2-4691-4dad-f46a-fef6c5c909dc"
      },
      "execution_count": null,
      "outputs": [
        {
          "output_type": "stream",
          "name": "stdout",
          "text": [
            "\n",
            "\n",
            "Beneath clear skies and sun's gentle grace,\n",
            "A day in London all ablaze,\n",
            "Colors dance and sights astound,\n",
            "Amidst the hustle, peace is found.\n",
            "\n",
            "The Thames, like silver under light,\n",
            "Reflects Big Ben's stoic might,\n",
            "While Westminster's grand hall stands proud,\n",
            "An echo of history resounds.\n",
            "\n",
            "Buckingham Palace gates open wide,\n",
            "To let the world see inside,\n",
            "Tourists snap their memories away,\n",
            "As soldiers march in stately array.\n",
            "\n",
            "Street musicians strum and sing,\n",
            "Their melodies taking wing,\n",
            "From Trafalgar to Piccadilly's sprawl,\n",
            "A symphony for one and all.\n",
            "\n",
            "Covent Garden's markets bloom,\n",
            "Bursting with sweet perfume,\n",
            "Fresh produce, crafts and cheer,\n",
            "An urban garden for those near.\n",
            "\n",
            "Along the South Bank walk hand in hand,\n",
            "Graffiti murals stretch across the land,\n",
            "Under Hungerford Bridge, boats passing through,\n",
            "A sight that never fails to thrill anew.\n",
            "\n",
            "Art galleries, museums, stories untold,\n",
            "In every corner, more to behold,\n",
            "The British Museum's ancient charm,\n",
            "Calmly quiet, keeping safe from harm.\n",
            "\n",
            "Afternoon tea in Kensington's glow,\n",
            "Where manners and customs show,\n",
            "Scones with clotted cream and jam divine,\n",
            "A luscious moment in time.\n",
            "\n",
            "Evening falls with subtle grace,\n",
            "Illuminating London's face,\n",
            "The Eye, a giant among stars,\n",
            "Reflecting day and singing night's hurrahs.\n",
            "\n",
            "Fireworks burst above the Tower,\n",
            "Bringing magic to this hour,\n",
            "This beautiful day in London town,\n",
            "Where dreams and reality unite, wearing a crown.\n"
          ]
        }
      ]
    },
    {
      "cell_type": "markdown",
      "source": [
        "\n",
        "\n",
        "---\n",
        "\n"
      ],
      "metadata": {
        "id": "BIBiAKbBsfnD"
      }
    },
    {
      "cell_type": "markdown",
      "source": [
        "\n",
        "### About\n",
        "\n",
        "##### This notebook is created by AI Geek.\n",
        "\n",
        "##### If you want to support my work, consider following me on [twitter](https://twitter.com/aigeek__) & [medium](https://medium.com/@aigeek_). You can also [buy me a coffee](https://www.buymeacoffee.com/aigeek_)."
      ],
      "metadata": {
        "id": "BYISh8nbsc67"
      }
    },
    {
      "cell_type": "code",
      "source": [],
      "metadata": {
        "id": "5HN6ezAcq4rU"
      },
      "execution_count": null,
      "outputs": []
    }
  ]
}
