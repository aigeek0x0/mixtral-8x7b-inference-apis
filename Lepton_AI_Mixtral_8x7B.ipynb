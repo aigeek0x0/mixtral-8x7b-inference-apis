{
  "nbformat": 4,
  "nbformat_minor": 0,
  "metadata": {
    "colab": {
      "provenance": []
    },
    "kernelspec": {
      "name": "python3",
      "display_name": "Python 3"
    },
    "language_info": {
      "name": "python"
    }
  },
  "cells": [
    {
      "cell_type": "markdown",
      "source": [
        "## Lepton AI - Mixtral 8x7B"
      ],
      "metadata": {
        "id": "sk6fk4jGvbjU"
      }
    },
    {
      "cell_type": "markdown",
      "source": [
        "##### Get your Lepton AI API key from here: https://lepton.ai. They are giving away $10/month credit on signup.\n"
      ],
      "metadata": {
        "id": "-Jbj_q2YH4Un"
      }
    },
    {
      "cell_type": "code",
      "source": [
        "!pip install -U openai"
      ],
      "metadata": {
        "id": "2tPrLzeRCz_0"
      },
      "execution_count": null,
      "outputs": []
    },
    {
      "cell_type": "code",
      "source": [
        "import openai\n",
        "\n",
        "client = openai.OpenAI(\n",
        "    base_url= \"https://mixtral-8x7b.lepton.run/api/v1/\",\n",
        "    api_key= \"INSERT YOUR LEPTON API KEY HERE\",\n",
        ")\n",
        "\n",
        "completion = client.chat.completions.create(\n",
        "    model=\"mixtral-8x7b\",\n",
        "    temperature=0.5,\n",
        "    messages=[\n",
        "      {\"role\": \"user\", \"content\": \"Write a poem about a beautiful day in Mumbai, India.\"}\n",
        "    ]\n",
        ")\n",
        "\n",
        "output_message = completion.choices[0].message\n",
        "content = output_message.content\n",
        "print(content)"
      ],
      "metadata": {
        "colab": {
          "base_uri": "https://localhost:8080/"
        },
        "id": "yAwEPCiA54K9",
        "outputId": "41e7cb4a-36b5-41d4-d30b-c20e0a86fd74"
      },
      "execution_count": null,
      "outputs": [
        {
          "output_type": "stream",
          "name": "stdout",
          "text": [
            "In the heart of India, where the Arabian Sea meets the land,\n",
            "Lies a city of dreams, Mumbai, majestic and grand.\n",
            "A beautiful day dawns, with a golden, gentle light,\n",
            "Kissing the skyscrapers, awakening them from their night.\n",
            "\n",
            "The sun rises over Chowpatty, bathing the sands in hue,\n",
            "Fishermen cast their nets, as the waves gently ebb and flow.\n",
            "The city stirs to life, as the morning train arrives,\n",
            "Bringing in people, their dreams and stories, it thrives.\n",
            "\n",
            "The streets come alive, with the cacophony of sound,\n",
            "Hawkers selling spices, vendors with flowers all around.\n",
            "The aroma of vada pav, and chai wafts through the air,\n",
            "As the city wakes up, in the warmth of the morning flare.\n",
            "\n",
            "The Gateway of India stands tall, a symbol of pride,\n",
            "Where history and modernity, side by side, reside.\n",
            "The Marine Drive, a stretch of beauty, by the sea it's laid,\n",
            "A perfect spot for a stroll\n"
          ]
        }
      ]
    },
    {
      "cell_type": "code",
      "source": [],
      "metadata": {
        "id": "bgQ0QRCCEhzy"
      },
      "execution_count": null,
      "outputs": []
    },
    {
      "cell_type": "markdown",
      "source": [
        "\n",
        "### About\n",
        "\n",
        "##### This notebook is created by AI Geek.\n",
        "\n",
        "##### If you want to support my work, consider following me on [twitter](https://twitter.com/aigeek__) & [medium](https://medium.com/@aigeek_). You can also [buy me a coffee](https://www.buymeacoffee.com/aigeek_)."
      ],
      "metadata": {
        "id": "sNGlFWUyKGSG"
      }
    },
    {
      "cell_type": "code",
      "source": [],
      "metadata": {
        "id": "9ZfN94ilk2hC"
      },
      "execution_count": null,
      "outputs": []
    }
  ]
}
