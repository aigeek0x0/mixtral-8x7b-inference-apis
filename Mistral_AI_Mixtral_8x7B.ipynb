{
  "nbformat": 4,
  "nbformat_minor": 0,
  "metadata": {
    "colab": {
      "provenance": []
    },
    "kernelspec": {
      "name": "python3",
      "display_name": "Python 3"
    },
    "language_info": {
      "name": "python"
    }
  },
  "cells": [
    {
      "cell_type": "markdown",
      "source": [
        "## Mistral AI - Mixtral 8x7B"
      ],
      "metadata": {
        "id": "cQUHRqDYwq6f"
      }
    },
    {
      "cell_type": "markdown",
      "source": [
        "##### Get your Mistral AI API key from here: https://console.mistral.ai and subscribe. They don't offer any free credits and you pay based on your API usage."
      ],
      "metadata": {
        "id": "kj2SBeYPweHg"
      }
    },
    {
      "cell_type": "markdown",
      "source": [
        "\n",
        "\n",
        "---\n",
        "\n"
      ],
      "metadata": {
        "id": "f_z5QrDBIAQ1"
      }
    },
    {
      "cell_type": "markdown",
      "source": [
        "### Langchain Implementation"
      ],
      "metadata": {
        "id": "Z2YPYOqmiYQq"
      }
    },
    {
      "cell_type": "code",
      "execution_count": null,
      "metadata": {
        "id": "4BDoaabP81mq"
      },
      "outputs": [],
      "source": [
        "!pip install langchain==0.0.352 langchain_mistralai==0.0.1"
      ]
    },
    {
      "cell_type": "code",
      "source": [
        "import os\n",
        "os.environ[\"MISTRAL_API_KEY\"] = \"INSERT YOUR MISTRAL AI API KEY\"       # Get your key here: https://console.mistral.ai and subscribe"
      ],
      "metadata": {
        "id": "h-hPZ3iv87vQ"
      },
      "execution_count": null,
      "outputs": []
    },
    {
      "cell_type": "code",
      "source": [
        "from langchain_core.messages import HumanMessage\n",
        "from langchain_mistralai.chat_models import ChatMistralAI"
      ],
      "metadata": {
        "id": "A0UG8Jpc9Pvw"
      },
      "execution_count": null,
      "outputs": []
    },
    {
      "cell_type": "code",
      "source": [
        "model = \"mistral-small\"    # they are currently using Mixtral 8x7B behind their endpoint mistral-small.\n",
        "\n",
        "chat = ChatMistralAI()\n",
        "\n",
        "messages = [HumanMessage(content=\"Write a poem about a beautiful day in Paris.\")]\n",
        "chat.invoke(messages)"
      ],
      "metadata": {
        "colab": {
          "base_uri": "https://localhost:8080/"
        },
        "id": "bpRD3Arp9QOO",
        "outputId": "59242fa4-e08e-45d9-d11c-269f8e0d8c08"
      },
      "execution_count": null,
      "outputs": [
        {
          "output_type": "execute_result",
          "data": {
            "text/plain": [
              "AIMessage(content=\"In the heart of Paris, on a day so fine,\\nUnder the azure sky, like a sapphire shine.\\nThe sun casts its golden fingers on the Seine,\\nA day to remember, free from the routine.\\n\\nThe Eiffel Tower in all her glory stands,\\nA metallic sentinel, over ancient lands.\\nHer lacy shadow dances with grace and flair,\\nOn cobblestone streets, once walked by kings and queens there.\\n\\nNotre Dame's spires reach up towards the heavens above,\\nEchoing stories of love, war, and doves.\\nHer stained glass windows tell tales anew,\\nOf saints and sinners, in hues of blue.\\n\\nMontmartre hums a melody, sweet and light,\\nStreet artists paint, under the soft sunlight.\\nCafes buzz with chatter, laughter, and cheer,\\nThe scent of fresh croissants fills the air, crystal clear.\\n\\nThe Louvre's glass pyramid gleams with pride,\\nHolding secrets, centuries have tried.\\nDa Vinci's Mona Lisa smiles enigmatically,\\nIn this city of dreams, where reality meets fantasy.\\n\\nA gentle breeze rustles the leaves in the Tuileries,\\nLovers whisper sweet nothings, as time marches slowly.\\nChildren sail boats in the pond, with delight,\\nBasking in the magic of this beautiful day and night.\\n\\nParis, resplendent, in her radiant best,\\nBathes in the glow of the setting sun's crest.\\nA day of beauty, a day of peace,\\nAn ode to Paris, where all hearts find release.\")"
            ]
          },
          "metadata": {},
          "execution_count": 18
        }
      ]
    },
    {
      "cell_type": "markdown",
      "source": [
        "\n",
        "\n",
        "---\n",
        "\n"
      ],
      "metadata": {
        "id": "cuBDFhDPIC2J"
      }
    },
    {
      "cell_type": "markdown",
      "source": [
        "### Mistral AI API Implementation"
      ],
      "metadata": {
        "id": "McPF9YADiTuM"
      }
    },
    {
      "cell_type": "code",
      "source": [
        "!pip install mistralai"
      ],
      "metadata": {
        "id": "TDsuJzvt-sf2"
      },
      "execution_count": null,
      "outputs": []
    },
    {
      "cell_type": "code",
      "source": [
        "import os\n",
        "os.environ[\"MISTRAL_API_KEY\"] = \"INSERT YOUR MISTRAL AI API KEY\"       # Get your key here: https://console.mistral.ai and subscribe"
      ],
      "metadata": {
        "id": "N32zvxkvJxCd"
      },
      "execution_count": null,
      "outputs": []
    },
    {
      "cell_type": "code",
      "source": [
        "import os\n",
        "from mistralai.client import MistralClient\n",
        "from mistralai.models.chat_completion import ChatMessage\n",
        "\n",
        "api_key = os.environ[\"MISTRAL_API_KEY\"]\n",
        "model = \"mistral-small\"  # they are currently using Mixtral 8x7B behind their endpoint mistral-small.\n",
        "\n",
        "client = MistralClient(api_key=api_key)\n",
        "\n",
        "chat_response = client.chat(\n",
        "    model=model,\n",
        "    messages=[ChatMessage(role=\"user\", content=\"What is the best French cheese?\")],\n",
        ")\n",
        "print(chat_response.choices[0].message.content)"
      ],
      "metadata": {
        "colab": {
          "base_uri": "https://localhost:8080/"
        },
        "id": "OkWKI6R8-Fhn",
        "outputId": "50b82e75-bc21-43b6-d436-19fe4dc46894"
      },
      "execution_count": null,
      "outputs": [
        {
          "output_type": "stream",
          "name": "stdout",
          "text": [
            "The \"best\" French cheese is subjective and depends on personal taste preferences. However, some popular and highly-regarded French cheeses include:\n",
            "\n",
            "1. Brie - a soft, creamy cheese with a white rind\n",
            "2. Camembert - similar to Brie, but with a stronger flavor\n",
            "3. Roquefort - a blue cheese made from sheep's milk\n",
            "4. Comté - a hard cheese made from unpasteurized cow's milk\n",
            "5. Reblochon - a soft cheese with a nutty flavor, often used in the dish Tartiflette\n",
            "6. Époisses - a pungent, soft cheese with a washed rind\n",
            "7. Bleu d'Auvergne - a blue cheese made from cow's milk with a strong, spicy flavor\n",
            "8. Chèvre - a variety of goat cheeses available in different textures and flavors.\n",
            "\n",
            "It's worth noting that France has over 1,000 types of cheese, and each one has its unique taste and texture. It's recommended to try different varieties to find the one you like best.\n"
          ]
        }
      ]
    },
    {
      "cell_type": "markdown",
      "source": [
        "\n",
        "\n",
        "---\n",
        "\n"
      ],
      "metadata": {
        "id": "aKw59qzLMBdz"
      }
    },
    {
      "cell_type": "markdown",
      "source": [
        "\n",
        "### About\n",
        "\n",
        "##### This notebook is created by AI Geek.\n",
        "\n",
        "##### If you want to support my work, consider following me on [twitter](https://twitter.com/aigeek__) & [medium](https://medium.com/@aigeek_). You can also [buy me a coffee](https://www.buymeacoffee.com/aigeek_)."
      ],
      "metadata": {
        "id": "bC8VeSoIoREY"
      }
    },
    {
      "cell_type": "code",
      "source": [],
      "metadata": {
        "id": "3E0l9LkgOqmq"
      },
      "execution_count": null,
      "outputs": []
    }
  ]
}