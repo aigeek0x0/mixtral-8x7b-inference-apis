{
  "nbformat": 4,
  "nbformat_minor": 0,
  "metadata": {
    "colab": {
      "provenance": []
    },
    "kernelspec": {
      "name": "python3",
      "display_name": "Python 3"
    },
    "language_info": {
      "name": "python"
    }
  },
  "cells": [
    {
      "cell_type": "markdown",
      "source": [
        "## NVIDIA NGC - Mixtral 8x7B"
      ],
      "metadata": {
        "id": "HdnS8FdO7kjW"
      }
    },
    {
      "cell_type": "markdown",
      "source": [
        "##### Get your Mistral AI API key from here: https://catalog.ngc.nvidia.com/orgs/nvidia/teams/ai-foundation/models/mixtral-8x7b. They offer free credits for trial."
      ],
      "metadata": {
        "id": "iXexilwO7pRG"
      }
    },
    {
      "cell_type": "markdown",
      "source": [
        "\n",
        "\n",
        "---\n",
        "\n"
      ],
      "metadata": {
        "id": "uOkI3yrgsWvE"
      }
    },
    {
      "cell_type": "markdown",
      "source": [
        "### Langchain Implementation"
      ],
      "metadata": {
        "id": "eHDl85re8Lex"
      }
    },
    {
      "cell_type": "code",
      "source": [
        "!pip install -U langchain-nvidia-ai-endpoints"
      ],
      "metadata": {
        "id": "0lcZYrfo8SO7"
      },
      "execution_count": null,
      "outputs": []
    },
    {
      "cell_type": "code",
      "source": [
        "import os\n",
        "os.environ[\"NVIDIA_API_KEY\"]=\"INSERT_YOUR_API_KEY\"      ## Get your API key from here: https://catalog.ngc.nvidia.com/orgs/nvidia/teams/ai-foundation/models/mixtral-8x7b"
      ],
      "metadata": {
        "id": "5LVO_T9h8YBh"
      },
      "execution_count": null,
      "outputs": []
    },
    {
      "cell_type": "code",
      "source": [
        "from langchain_nvidia_ai_endpoints import ChatNVIDIA\n",
        "\n",
        "llm = ChatNVIDIA(model=\"mixtral_8x7b\")\n",
        "result = llm.invoke(\"Write a ballad about a beautiful day in London.\")\n",
        "print(result.content)"
      ],
      "metadata": {
        "colab": {
          "base_uri": "https://localhost:8080/"
        },
        "id": "65I9uU-p8fKn",
        "outputId": "5810a9d0-811d-484e-b8ab-91908f81eeab"
      },
      "execution_count": null,
      "outputs": [
        {
          "output_type": "stream",
          "name": "stdout",
          "text": [
            "(Verse 1)\n",
            "In the heart of London, on a day so bright,\n",
            "Underneath the sun, all through the morning light.\n",
            "The clock tower chimes, echoing through the air,\n",
            "A day full of promise, none of us could despair.\n",
            "\n",
            "The River Thames flows, with a gentle grace,\n",
            "Reflecting the sun's rays, it's a beautiful place.\n",
            "Bustling Borough Market, with its vibrant scene,\n",
            "Where people gather to share, laugh, and preen.\n",
            "\n",
            "(Chorus)\n",
            "Oh, beautiful day in London town,\n",
            "Where the Union Jack flies, never wearing a frown.\n",
            "From Hyde Park to Tower Bridge, under the clear blue sky,\n",
            "The city shines in glory, where dreams never die.\n",
            "\n",
            "(Verse 2)\n",
            "Covent Garden blooms, with street performers' tunes,\n",
            "Under the blossoming trees, dancing in the afternoon.\n",
            "The London Eye spins, offering panoramic views,\n",
            "Where every corner holds history, and stories to peruse.\n",
            "\n",
            "Buckingham Palace stands, with its changing of the guard,\n",
            "Amidst the lush green gardens, it looks like a fairytale yard.\n",
            "St. Paul's Cathedral dome, rising towards the heavens,\n",
            "A symbol of faith, where countless hearts ascend then.\n",
            "\n",
            "(Chorus)\n",
            "Oh, beautiful day in London town,\n",
            "Where the Underground trains humbly go around.\n",
            "From Piccadilly Circus to the British Museum's might,\n",
            "The city thrives in harmony, under the soft moonlight.\n",
            "\n",
            "(Bridge)\n",
            "And as the sun sets, painting hues on the canvas of the sky,\n",
            "The city lights twinkle, like stars, oh so high.\n",
            "A beautiful day in London, full of joy and cheer,\n",
            "A day to remember, for those who love her here.\n",
            "\n",
            "(Chorus)\n",
            "Oh, beautiful day in London town,\n",
            "Where the nightlife pulses, never wearing a frown.\n",
            "From the Shard to Abbey Road, where the Beatles once roamed,\n",
            "The city lives in unity, where hearts are never closed.\n",
            "\n",
            "(Outro)\n",
            "So here's to London, on this radiant day,\n",
            "A melting pot of cultures, in every single way.\n",
            "A testament to resilience, strength, and grace,\n",
            "In the heart of England, forever to embrace.\n"
          ]
        }
      ]
    },
    {
      "cell_type": "markdown",
      "source": [
        "\n",
        "\n",
        "---\n",
        "\n"
      ],
      "metadata": {
        "id": "bvC-Ja8hsTpA"
      }
    },
    {
      "cell_type": "markdown",
      "source": [
        "### Python REST API Implementation"
      ],
      "metadata": {
        "id": "MXgPc6Gk70tT"
      }
    },
    {
      "cell_type": "code",
      "execution_count": null,
      "metadata": {
        "colab": {
          "base_uri": "https://localhost:8080/"
        },
        "id": "i5Vvipb7SCE-",
        "outputId": "9b166ad3-2f01-44ca-cd8a-b766058749eb"
      },
      "outputs": [
        {
          "output_type": "stream",
          "name": "stdout",
          "text": [
            "In the heart of Paris, on a day so fine,\n",
            "Sunlight dances on cobblestones, like stars that intertwine.\n",
            "Blooms of spring in vibrant array, whispering sweet nothings to the air,\n",
            "Echoing off ancient stone walls, a love letter laid bare.\n",
            "\n",
            "The Seine River, flowing with grace, under bridges old and wise,\n",
            "Reflecting the city's timeless beauty, as the world passes by.\n",
            "Notre Dame stands tall, a testament to dreams that never fade,\n",
            "A symbol of hope, where hearts find solace, in its sacred shade.\n",
            "\n",
            "Artists at work in Montmartre, capturing life's delicate dance,\n",
            "Their brushes dance with colors bold, in a romantic, whimsical trance.\n",
            "Cafes hum with soft conversation, laughter spilling onto streets,\n",
            "Where lovers walk hand in hand, lost in the rhythm of the city's heartbeats.\n",
            "\n",
            "The scent of fresh-baked baguettes, wafts from bakeries lined in a row,\n",
            "A symphony of flavors, inviting all to taste and to know.\n",
            "The Eiffel Tower, a beacon of elegance, reaching for the sky,\n",
            "Sparkles in the twilight, a magical moment, where dreams never die.\n",
            "\n",
            "This is Paris, a canvas of experiences, painted with love and delight,\n",
            "Where every corner holds a story, every moment feels just right.\n",
            "So here's to the beautiful days, in the city that captures the soul,\n",
            "A place where memories bloom, and hearts become whole."
          ]
        }
      ],
      "source": [
        "import requests\n",
        "import json\n",
        "\n",
        "invoke_url = \"https://api.nvcf.nvidia.com/v2/nvcf/pexec/functions/8f4118ba-60a8-4e6b-8574-e38a4067a4a3\"\n",
        "\n",
        "headers = {\n",
        "    \"Authorization\": \"Bearer INSERT_YOUR_API_KEY\",                ## Get your API key from here: https://catalog.ngc.nvidia.com/orgs/nvidia/teams/ai-foundation/models/mixtral-8x7b\n",
        "    \"accept\": \"text/event-stream\",\n",
        "    \"content-type\": \"application/json\",\n",
        "}\n",
        "\n",
        "payload = {\n",
        "  \"messages\": [\n",
        "    {\n",
        "      \"content\": \"Write a poem about a beautiful day in Paris.\",\n",
        "      \"role\": \"user\"\n",
        "    }\n",
        "  ],\n",
        "  \"temperature\": 0.2,\n",
        "  \"top_p\": 0.7,\n",
        "  \"max_tokens\": 1024,\n",
        "  \"seed\": 42,\n",
        "  \"stream\": True\n",
        "}\n",
        "\n",
        "response = requests.post(invoke_url, headers=headers, json=payload, stream=True)\n",
        "\n",
        "for line in response.iter_lines():\n",
        "    if line:\n",
        "        # Find the index of the first '{' character (start of JSON content)\n",
        "        start_index = line.find(b'{')\n",
        "\n",
        "        if start_index != -1:\n",
        "            json_data = line[start_index:].decode(\"utf-8\")\n",
        "\n",
        "            try:\n",
        "                data = json.loads(json_data)\n",
        "                content = data['choices'][0]['delta']['content']\n",
        "                print(content, end=\"\")\n",
        "            except json.JSONDecodeError as e:\n",
        "                print(f\"Error decoding JSON: {e}\")\n"
      ]
    },
    {
      "cell_type": "markdown",
      "source": [
        "\n",
        "\n",
        "---\n",
        "\n"
      ],
      "metadata": {
        "id": "_2TQrvetsSBb"
      }
    },
    {
      "cell_type": "markdown",
      "source": [
        "\n",
        "### About\n",
        "\n",
        "##### This notebook is created by AI Geek.\n",
        "\n",
        "##### If you want to support my work, consider following me on [twitter](https://twitter.com/aigeek__) & [medium](https://medium.com/@aigeek_). You can also [buy me a coffee](https://www.buymeacoffee.com/aigeek_)."
      ],
      "metadata": {
        "id": "D4fxh7a0sQey"
      }
    },
    {
      "cell_type": "code",
      "source": [],
      "metadata": {
        "id": "2e7OS4t4Vf5h"
      },
      "execution_count": null,
      "outputs": []
    }
  ]
}