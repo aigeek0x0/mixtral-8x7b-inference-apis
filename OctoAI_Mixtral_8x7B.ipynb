{
  "nbformat": 4,
  "nbformat_minor": 0,
  "metadata": {
    "colab": {
      "provenance": []
    },
    "kernelspec": {
      "name": "python3",
      "display_name": "Python 3"
    },
    "language_info": {
      "name": "python"
    }
  },
  "cells": [
    {
      "cell_type": "markdown",
      "source": [
        "# OctoAI - Mixtral 8x7B\n",
        "\n",
        "##### Get your Together AI API key from here: https://octo.ai/. They are giving away $10 credit on signup."
      ],
      "metadata": {
        "id": "mJsHyRrrJu9I"
      }
    },
    {
      "cell_type": "code",
      "source": [
        "!pip install octoai-sdk --quiet"
      ],
      "metadata": {
        "id": "liCBpRiQBowP"
      },
      "execution_count": null,
      "outputs": []
    },
    {
      "cell_type": "code",
      "execution_count": null,
      "metadata": {
        "id": "u_vwNKm1Bmbm"
      },
      "outputs": [],
      "source": [
        "import json\n",
        "from octoai.client import Client\n",
        "\n",
        "OCTOAI_TOKEN=\"INSERT YOUR OCTOAI TOKEN HERE\"\n",
        "\n",
        "client = Client(token=OCTOAI_TOKEN)\n",
        "completion = client.chat.completions.create(\n",
        "    model=\"mixtral-8x7b-instruct-fp16\",\n",
        "    messages=[\n",
        "        {\n",
        "            \"role\": \"system\",\n",
        "            \"content\": \"Below is an instruction that describes a task. Write a response that appropriately completes the request.\",\n",
        "        },\n",
        "        {\"role\": \"user\", \"content\": \"Write a blog about Seattle\"},\n",
        "    ],\n",
        "    max_tokens=1024,\n",
        ")\n",
        "\n",
        "print(completion.choices[0].message.content)"
      ]
    },
    {
      "cell_type": "markdown",
      "source": [
        "### Streaming"
      ],
      "metadata": {
        "id": "hLPNOJ1kJjQW"
      }
    },
    {
      "cell_type": "code",
      "source": [
        "from octoai.chat import TextModel\n",
        "from octoai.client import Client\n",
        "\n",
        "client = Client(token=OCTOAI_TOKEN)\n",
        "for completion in client.chat.completions.create(\n",
        "    model=\"mixtral-8x7b-instruct-fp16\",\n",
        "    messages=[\n",
        "        {\n",
        "            \"role\": \"system\",\n",
        "            \"content\": \"Below is an instruction that describes a task. Write a response that appropriately completes the request.\",\n",
        "        },\n",
        "        {\"role\": \"user\", \"content\": \"Write a blog about Seattle\"},\n",
        "    ],\n",
        "    max_tokens=1024,\n",
        "    stream=True,\n",
        "):\n",
        "\n",
        "  print(completion.choices[0].delta.content, end='', flush=True)"
      ],
      "metadata": {
        "id": "F2nwDCPpDwQ-"
      },
      "execution_count": null,
      "outputs": []
    },
    {
      "cell_type": "code",
      "source": [],
      "metadata": {
        "id": "OtdzB25DHAWw"
      },
      "execution_count": null,
      "outputs": []
    },
    {
      "cell_type": "markdown",
      "source": [
        "\n",
        "### About\n",
        "\n",
        "##### This notebook is created by AI Geek.\n",
        "\n",
        "##### If you want to support my work, consider following me on [twitter](https://twitter.com/aigeek__) & [medium](https://medium.com/@aigeek_). You can also [buy me a coffee](https://www.buymeacoffee.com/aigeek_)."
      ],
      "metadata": {
        "id": "Dg8Sx4c1J47D"
      }
    }
  ]
}