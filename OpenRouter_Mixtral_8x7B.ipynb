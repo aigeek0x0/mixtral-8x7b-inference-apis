{
  "nbformat": 4,
  "nbformat_minor": 0,
  "metadata": {
    "colab": {
      "provenance": []
    },
    "kernelspec": {
      "name": "python3",
      "display_name": "Python 3"
    },
    "language_info": {
      "name": "python"
    }
  },
  "cells": [
    {
      "cell_type": "markdown",
      "source": [
        "## OpenRouter - Mixtral 8x7B"
      ],
      "metadata": {
        "id": "etmKJKWRLcy-"
      }
    },
    {
      "cell_type": "markdown",
      "source": [
        "##### Get your OpenRouter from here: https://openrouter.ai/. They offer $1 free credit."
      ],
      "metadata": {
        "id": "oVjnEtIYLi_h"
      }
    },
    {
      "cell_type": "markdown",
      "source": [
        "\n",
        "\n",
        "---\n",
        "\n"
      ],
      "metadata": {
        "id": "O58hMOyfL31i"
      }
    },
    {
      "cell_type": "markdown",
      "source": [
        "### OpenRouter API Implementation"
      ],
      "metadata": {
        "id": "xmRwKegVLgWV"
      }
    },
    {
      "cell_type": "code",
      "source": [
        "!pip install openai"
      ],
      "metadata": {
        "id": "s4Fl_ZHLJbpd"
      },
      "execution_count": null,
      "outputs": []
    },
    {
      "cell_type": "code",
      "source": [
        "from openai import OpenAI\n",
        "from os import getenv\n",
        "import os\n",
        "\n",
        "os.environ[\"OPENROUTER_API_KEY\"] = \"INSERT YOUR OPENROUTER API KEY\"\n",
        "\n",
        "client = OpenAI(\n",
        "  base_url=\"https://openrouter.ai/api/v1\",\n",
        "  api_key=getenv(\"OPENROUTER_API_KEY\"),\n",
        ")\n",
        "\n",
        "completion = client.chat.completions.create(\n",
        "  model=\"mistralai/mixtral-8x7b-instruct\",\n",
        "  max_tokens=2048,\n",
        "  temperature=0.5,\n",
        "  messages=[\n",
        "    {\n",
        "      \"role\": \"user\",\n",
        "      \"content\": \"Write a poem about a beautiful day in Paris.\",\n",
        "    },\n",
        "  ],\n",
        ")\n",
        "print(completion.choices[0].message.content)"
      ],
      "metadata": {
        "colab": {
          "base_uri": "https://localhost:8080/"
        },
        "id": "6PyYRszhJZ2d",
        "outputId": "5e5599cf-c7ea-4f6c-a566-1ab7320e09ef"
      },
      "execution_count": null,
      "outputs": [
        {
          "output_type": "stream",
          "name": "stdout",
          "text": [
            "A radiant sun rises over the Seine,\n",
            "Kissing cobblestone streets, a scene so serene.\n",
            "The Eiffel Tower stands tall, a beacon so bright,\n",
            "Its reflection shimmering with morning's first light.\n",
            "\n",
            "Cafes awaken with croissants and coffee,\n",
            "The scent wafting through the air, oh so lovely.\n",
            "Artists gather at Montmartre, their brushes in hand,\n",
            "Capturing the beauty of this enchanting land.\n",
            "\n",
            "Lovers walk hand in hand along the river's edge,\n",
            "Lost in each other, on this day they've pledged.\n",
            "Children laugh and play in the Luxembourg Gardens,\n",
            "Amongst the flowers, life's simple pleasures are planned.\n",
            "\n",
            "As day turns to night, the city is aglow,\n",
            "The twinkling lights of Paris, a mesmerizing show.\n",
            "A symphony of stars above, a melody so sweet,\n",
            "On this beautiful day in Paris, life feels complete.\n"
          ]
        }
      ]
    },
    {
      "cell_type": "markdown",
      "source": [
        "\n",
        "\n",
        "---\n",
        "\n"
      ],
      "metadata": {
        "id": "4rLT6r4UL5n_"
      }
    },
    {
      "cell_type": "markdown",
      "source": [
        "\n",
        "### About\n",
        "\n",
        "##### This notebook is created by AI Geek.\n",
        "\n",
        "##### If you want to support my work, consider following me on [twitter](https://twitter.com/aigeek__) & [medium](https://medium.com/@aigeek_). You can also [buy me a coffee](https://www.buymeacoffee.com/aigeek_)."
      ],
      "metadata": {
        "id": "1KTD1FkkLWor"
      }
    },
    {
      "cell_type": "code",
      "source": [],
      "metadata": {
        "id": "vfyoNjKXOmBs"
      },
      "execution_count": null,
      "outputs": []
    }
  ]
}