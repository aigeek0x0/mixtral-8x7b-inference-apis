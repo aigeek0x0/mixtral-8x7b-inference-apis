{
  "nbformat": 4,
  "nbformat_minor": 0,
  "metadata": {
    "colab": {
      "provenance": []
    },
    "kernelspec": {
      "name": "python3",
      "display_name": "Python 3"
    },
    "language_info": {
      "name": "python"
    }
  },
  "cells": [
    {
      "cell_type": "markdown",
      "source": [
        "## Perplexity Labs - Mixtral 8x7B"
      ],
      "metadata": {
        "id": "wqdtuHzY3QSR"
      }
    },
    {
      "cell_type": "markdown",
      "source": [
        "##### Get your Perplexity API key from here: https://www.perplexity.ai/settings/api. They don't offer any free credits and you will need to fund the account with min $1."
      ],
      "metadata": {
        "id": "7fhXqeUFyTlL"
      }
    },
    {
      "cell_type": "markdown",
      "source": [
        "\n",
        "\n",
        "---\n",
        "\n"
      ],
      "metadata": {
        "id": "NLsk28ZAH2nt"
      }
    },
    {
      "cell_type": "markdown",
      "source": [
        "### Perplexity API Implementation"
      ],
      "metadata": {
        "id": "ZmODzg0wHziK"
      }
    },
    {
      "cell_type": "code",
      "source": [
        "!pip install openai==0.28.1"
      ],
      "metadata": {
        "id": "7npv6DjcyUag"
      },
      "execution_count": null,
      "outputs": []
    },
    {
      "cell_type": "code",
      "execution_count": null,
      "metadata": {
        "colab": {
          "base_uri": "https://localhost:8080/"
        },
        "id": "sG6SnIpYyRQw",
        "outputId": "5b485005-ba71-4ab0-b72f-1f774650501f"
      },
      "outputs": [
        {
          "output_type": "stream",
          "name": "stdout",
          "text": [
            "In the heart of the morning, under a Parisian sky,\n",
            "The sun awakens, bidding adieu to the night.\n",
            "Emerging in glory, with a blush that is shy,\n",
            "A day of beauty and charm in Paris takes flight.\n",
            "\n",
            "Golden light dances on the Seine with delight,\n",
            "Eiffel Tower soaring, a sentinel tall and grand.\n",
            "Boulangeries whisper secrets of dough and warmth,\n",
            "The scent of fresh baguettes, crusty,stretching out an invitation.\n",
            "\n",
            "Artists gather at Montmartre, their brushes ablaze,\n",
            "Cafe au Lait and Croissants, their creative fuel,\n",
            "As they paint the city's spirit on canvas displays,\n",
            "Where Amelie once dreamed, and a million hearts fell in love.\n",
            "\n",
            "Notre Dame stands quiet, in her stone-carved grace,\n",
            "Basking in the sunbeams filtering through her age-old stained glass.\n",
            "Gargoyles whisper tales of the city's vibrant past,\n",
            "While the Quasimodo bell echoes in the vast open space.\n",
            "\n",
            "Champs-Elysees awakens with a flourish and flair,\n",
            "Luxury boutiques open their doors, a dazzling sight.\n",
            "Lovers walk hand in hand, beneath trees fair,\n",
            "A stroll along the avenue, on this beautiful day, pure delight.\n",
            "\n",
            "As twilight descends, the city adorned in star-studded night,\n",
            "A symphony of city lights, echoing in soft, sweet strains.\n",
            "Under the watchful moon, the Seine gently flows,\n",
            "Paris, a canvas of colors, bidding beauty to evermore grow.\n",
            "\n",
            "In the heart of the morning, under a Parisian sky,\n",
            "A beautiful day unfurls, painting memories in time's gentle flow.\n",
            "A serenade of sunbeams, laughter, and love goodbye,\n",
            "To shadows, as dawn awakens in a city that forever glows.\n"
          ]
        }
      ],
      "source": [
        "import openai\n",
        "\n",
        "PERPLEXITY_API_KEY = \"INSET YOUR PERPLEXITY API KEY\"\n",
        "\n",
        "messages = [\n",
        "    {\n",
        "        \"role\": \"system\",\n",
        "        \"content\": (\n",
        "            \"You are a helpful AI assistant.\"\n",
        "        ),\n",
        "    },\n",
        "    {\n",
        "        \"role\": \"user\",\n",
        "        \"content\": (\n",
        "            \"Write a poem about a beautiful day in Paris.\"\n",
        "        ),\n",
        "    },\n",
        "]\n",
        "\n",
        "# chat completion without streaming\n",
        "response = openai.ChatCompletion.create(\n",
        "    model=\"mixtral-8x7b-instruct\",\n",
        "    messages=messages,\n",
        "    api_base=\"https://api.perplexity.ai\",\n",
        "    api_key=PERPLEXITY_API_KEY,\n",
        ")\n",
        "print(response.choices[0].message.content)"
      ]
    },
    {
      "cell_type": "markdown",
      "source": [
        "\n",
        "\n",
        "---\n",
        "\n"
      ],
      "metadata": {
        "id": "NRVXVjXKL-yX"
      }
    },
    {
      "cell_type": "markdown",
      "source": [
        "\n",
        "### About\n",
        "\n",
        "##### This notebook is created by AI Geek.\n",
        "\n",
        "##### If you want to support my work, consider following me on [twitter](https://twitter.com/aigeek__) & [medium](https://medium.com/@aigeek_). You can also [buy me a coffee](https://www.buymeacoffee.com/aigeek_)."
      ],
      "metadata": {
        "id": "1rh0f-kZ241v"
      }
    },
    {
      "cell_type": "code",
      "source": [],
      "metadata": {
        "id": "QsjtOwJiOo5L"
      },
      "execution_count": null,
      "outputs": []
    }
  ]
}