{
  "nbformat": 4,
  "nbformat_minor": 0,
  "metadata": {
    "colab": {
      "provenance": []
    },
    "kernelspec": {
      "name": "python3",
      "display_name": "Python 3"
    },
    "language_info": {
      "name": "python"
    }
  },
  "cells": [
    {
      "cell_type": "markdown",
      "source": [
        "## Together AI - Mixtral 8x7B"
      ],
      "metadata": {
        "id": "Jv8QxfkKxJH2"
      }
    },
    {
      "cell_type": "markdown",
      "source": [
        "##### Get your Together AI API key from here: https://api.together.xyz. They are giving away $25 credit on signup.\n"
      ],
      "metadata": {
        "id": "-EMEMJ2zw7lL"
      }
    },
    {
      "cell_type": "markdown",
      "source": [
        "\n",
        "\n",
        "---\n",
        "\n"
      ],
      "metadata": {
        "id": "4255LaV8IfLQ"
      }
    },
    {
      "cell_type": "markdown",
      "source": [
        "### Langchain Implementation"
      ],
      "metadata": {
        "id": "zbvG7wEBxTsV"
      }
    },
    {
      "cell_type": "code",
      "execution_count": null,
      "metadata": {
        "id": "W1qZQdWRr_MI"
      },
      "outputs": [],
      "source": [
        "!pip install langchain==0.0.352"
      ]
    },
    {
      "cell_type": "code",
      "source": [
        "import os\n",
        "os.environ[\"TOGETHER_API_KEY\"] = \"INSERT YOUR TOGETHER AI API KEY\"       # Get your key here: https://api.together.xyz"
      ],
      "metadata": {
        "id": "W-HNAvBXs65-"
      },
      "execution_count": null,
      "outputs": []
    },
    {
      "cell_type": "code",
      "source": [
        "from langchain.llms import Together\n",
        "\n",
        "llm = Together(\n",
        "    model=\"mistralai/Mixtral-8x7B-Instruct-v0.1\",\n",
        "    temperature=0.5,\n",
        "    max_tokens=2048,\n",
        "    top_k=10,\n",
        ")\n",
        "\n",
        "input_ = \"\"\"Write a 100% unique, creative, and human-like style article of a minimum of 1500 words using \\\n",
        "# headings # and # sub-headings #. For the \"Recommendation Engine”. Try to use contractions, idioms, transitional phrases, \\\n",
        "interjections, dangling modifiers, and colloquialisms, and avoid repetitive phrases and unnatural sentence \\\n",
        "structures. The article should include Creative Title, SEO meta-description, ## Introduction ##. \\\n",
        "Add bullet points or Numbered list if needed, Write down faqs and conclusion. Make sure the article is \\\n",
        "plagiarism free. Don't forget to use a question mark at the end of questions. Try not to change the original \\\n",
        "title while writing the Title. Try to use the \"Recommendation Engine\" 2-3 times in the article. \\\n",
        "try to include \"Recommendation Engine\" in headings as well. write content that can easily pass the ai detection tools test.\"\"\"\n",
        "\n",
        "content_chain = llm(input_)\n",
        "\n",
        "print(content_chain)"
      ],
      "metadata": {
        "id": "9Va2mUsTsQkc"
      },
      "execution_count": null,
      "outputs": []
    },
    {
      "cell_type": "markdown",
      "source": [
        "\n",
        "\n",
        "---\n",
        "\n"
      ],
      "metadata": {
        "id": "UAab4RBLMFhU"
      }
    },
    {
      "cell_type": "markdown",
      "source": [
        "### Together API Implementation"
      ],
      "metadata": {
        "id": "J8W5HvVG1G5E"
      }
    },
    {
      "cell_type": "code",
      "source": [
        "!pip install together==0.2.10"
      ],
      "metadata": {
        "id": "iSqqKrre1Qz3"
      },
      "execution_count": null,
      "outputs": []
    },
    {
      "cell_type": "code",
      "source": [
        "import together\n",
        "together.api_key = \"INSERT YOUR TOGETHER AI API KEY\"       # Get your key here: https://api.together.xyz"
      ],
      "metadata": {
        "id": "bQB8cfYr1UBV"
      },
      "execution_count": null,
      "outputs": []
    },
    {
      "cell_type": "code",
      "source": [
        "model = \"mistralai/Mixtral-8x7B-Instruct-v0.1\"\n",
        "\n",
        "prompt = \"Write a poem about a beautiful day in Paris.\"\n",
        "\n",
        "response = together.Complete.create(\n",
        "  prompt = prompt,\n",
        "  model = model,\n",
        "  max_tokens = 1024,\n",
        "  temperature = 0.5,\n",
        "  top_k = 50,\n",
        "  top_p = 0.9,\n",
        "  repetition_penalty = 1.1,\n",
        ")\n",
        "\n",
        "print(response['output']['choices'][0]['text'])"
      ],
      "metadata": {
        "colab": {
          "base_uri": "https://localhost:8080/"
        },
        "id": "l8hakPGo1oAC",
        "outputId": "e9f2927b-c08f-42b1-b510-cae5481cd576"
      },
      "execution_count": null,
      "outputs": [
        {
          "output_type": "stream",
          "name": "stdout",
          "text": [
            "\n",
            "\n",
            "A beautiful day in Paris,\n",
            "The sun shines bright and clear,\n",
            "The Eiffel Tower stands tall and proud,\n",
            "A sight to see, it's quite dear.\n",
            "\n",
            "The Seine River flows gently,\n",
            "Reflecting the blue sky above,\n",
            "Boats sail by with happy passengers,\n",
            "Feeling the love.\n",
            "\n",
            "The aroma of fresh baked bread,\n",
            "Wafts through the air,\n",
            "Cafes and bistros bustling,\n",
            "With patrons everywhere.\n",
            "\n",
            "Artists paint on the streets,\n",
            "Musicians play their tunes,\n",
            "Parisians and tourists alike,\n",
            "Bask in the glow of the afternoon.\n",
            "\n",
            "The Sacre Coeur sits atop the hill,\n",
            "A beacon of faith and hope,\n",
            "The gardens of the Palace of Versailles,\n",
            "A testament to the grandeur of the monarchy's scope.\n",
            "\n",
            "A beautiful day in Paris,\n",
            "A day to remember and cherish,\n",
            "A day to fall in love with the city,\n",
            "A day to make a wish.\n",
            "\n",
            "So if you ever find yourself,\n",
            "In the city of love and light,\n",
            "Take a moment to soak it all in,\n",
            "And let your heart take flight.\n"
          ]
        }
      ]
    },
    {
      "cell_type": "markdown",
      "source": [
        "\n",
        "\n",
        "---\n",
        "\n"
      ],
      "metadata": {
        "id": "rNCjXwqo3mcN"
      }
    },
    {
      "cell_type": "markdown",
      "source": [
        "### Together API Implementation with Streaming Response"
      ],
      "metadata": {
        "id": "2zkgj2A--B2y"
      }
    },
    {
      "cell_type": "code",
      "source": [
        "!pip install together==0.2.10"
      ],
      "metadata": {
        "id": "lY4iLew3-NMP"
      },
      "execution_count": null,
      "outputs": []
    },
    {
      "cell_type": "code",
      "source": [
        "import together\n",
        "import json\n",
        "import requests\n",
        "import sseclient\n",
        "\n",
        "\n",
        "model = \"mistralai/Mixtral-8x7B-Instruct-v0.1\"\n",
        "together.api_key = \"INSERT YOUR TOGETHER AI API KEY\"    # Get your key here: https://api.together.xyz\n",
        "\n",
        "prompt = \"Take a deep breath and think step-by-step to answer the following question: What’s an example of a phenomenon where \\\n",
        "humanity as a whole lacks a good explanation for, but, taking into account the full set of human generated knowledge, an explanation \\\n",
        "is actually possible to generate.\"\n",
        "\n",
        "def together_completion(prompt, model=model, max_tokens=2048):\n",
        "    url = \"https://api.together.xyz/inference\"\n",
        "    headers = {\n",
        "        \"accept\": \"application/json\",\n",
        "        \"content-type\": \"application/json\",\n",
        "        \"Authorization\": f\"Bearer {together.api_key}\",\n",
        "    }\n",
        "    payload = {\n",
        "        \"model\": model,\n",
        "        \"prompt\": prompt,\n",
        "        \"max_tokens\": max_tokens,\n",
        "        \"temperature\": 0.9,\n",
        "        \"top_k\": 50,\n",
        "        \"top_p\": 0.5,\n",
        "        \"repetition_penalty\": 1.1,\n",
        "        \"stream_tokens\": True,\n",
        "    }\n",
        "\n",
        "    try:\n",
        "        response = requests.post(url, json=payload, headers=headers, stream=True)\n",
        "        response.raise_for_status()\n",
        "    except requests.RequestException as e:\n",
        "        raise RuntimeError(f\"Request to API failed: {e}\")\n",
        "\n",
        "    try:\n",
        "        client = sseclient.SSEClient(response)\n",
        "        for event in client.events():\n",
        "            if event.data == \"[DONE]\":\n",
        "                break\n",
        "            yield json.loads(event.data)[\"choices\"][0][\"text\"]\n",
        "    except Exception as e:\n",
        "        raise RuntimeError(f\"Error while streaming tokens: {e}\")\n",
        "\n",
        "for token in together_completion(prompt):\n",
        "    print(token, end=\"\", flush=True)"
      ],
      "metadata": {
        "colab": {
          "base_uri": "https://localhost:8080/"
        },
        "id": "9Do-jXYO9_Lq",
        "outputId": "e5b70e63-d0c9-4155-81a5-7df21c7056d3"
      },
      "execution_count": null,
      "outputs": [
        {
          "output_type": "stream",
          "name": "stdout",
          "text": [
            "\n",
            "\n",
            "Answer: The phenomenon of consciousness.\n",
            "\n",
            "There is no consensus among scientists and philosophers as to what consciousness is, and why and how it arises. The problem of consciousness is considered one of the hardest problems in science.\n",
            "\n",
            "However, if we take into account the full set of human generated knowledge, an explanation is actually possible to generate.\n",
            "\n",
            "The explanation would involve a combination of neuroscience, physics, computer science, mathematics, and philosophy.\n",
            "\n",
            "It would involve understanding the workings of the brain at the neural level, the fundamental laws of physics that govern the behavior of matter and energy, the principles of computation and information processing, the nature of mathematical structures and their relationship to the physical world, and the philosophical implications of these various areas of knowledge.\n",
            "\n",
            "It would also involve a recognition that consciousness is not a thing, but a process; it is not a substance, but a pattern; it is not a location, but a relationship.\n",
            "\n",
            "In short, the explanation of consciousness would be a grand synthesis of all that we know about the world and ourselves, and it would require the collaboration of many different disciplines and perspectives.\n",
            "\n",
            "But it is possible. And it is worth striving for.</s>"
          ]
        }
      ]
    },
    {
      "cell_type": "markdown",
      "source": [
        "\n",
        "\n",
        "---\n",
        "\n"
      ],
      "metadata": {
        "id": "Svgcbzcy-AMB"
      }
    },
    {
      "cell_type": "markdown",
      "source": [
        "\n",
        "### About\n",
        "\n",
        "##### This notebook is created by AI Geek.\n",
        "\n",
        "##### If you want to support my work, consider following me on [twitter](https://twitter.com/aigeek__) & [medium](https://medium.com/@aigeek_). You can also [buy me a coffee](https://www.buymeacoffee.com/aigeek_)."
      ],
      "metadata": {
        "id": "ae76D5Ju7Phg"
      }
    },
    {
      "cell_type": "code",
      "source": [],
      "metadata": {
        "id": "YnHOYpokOsDU"
      },
      "execution_count": null,
      "outputs": []
    }
  ]
}